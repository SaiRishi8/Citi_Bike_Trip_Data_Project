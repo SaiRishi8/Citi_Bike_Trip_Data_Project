{
 "cells": [
  {
   "cell_type": "code",
   "execution_count": 8,
   "id": "59caf439-3ff2-4fb2-bbd2-8d72dff431bc",
   "metadata": {},
   "outputs": [
    {
     "data": {
      "application/vnd.jupyter.widget-view+json": {
       "model_id": "105a22f5b065419b980898cc0afb14ac",
       "version_major": 2,
       "version_minor": 0
      },
      "text/plain": [
       "Downloading artifacts:   0%|          | 0/5 [00:00<?, ?it/s]"
      ]
     },
     "metadata": {},
     "output_type": "display_data"
    },
    {
     "name": "stdout",
     "output_type": "stream",
     "text": [
      "Model saved as citibike_best_model.pkl\n"
     ]
    }
   ],
   "source": [
    "import mlflow.pyfunc\n",
    "import joblib\n",
    "\n",
    "# Step 1: Define the MLflow model URI\n",
    "mlflow.set_tracking_uri(\"https://dagshub.com/SaiRishi9/Citi_Bike_tripdata.mlflow\")\n",
    "model_uri = \"models:/citibike_demand_model/1\"  # You can also use the latest version if needed\n",
    "\n",
    "# Step 2: Load the model\n",
    "model = mlflow.pyfunc.load_model(model_uri)\n",
    "\n",
    "# Step 3: Extract the underlying LightGBM model\n",
    "# model._model_impl.sklearn_model is the actual LGBM model inside the MLflow pyfunc wrapper\n",
    "lgbm_model = model._model_impl.sklearn_model\n",
    "\n",
    "# Step 4: Save the model using joblib\n",
    "joblib.dump(lgbm_model, \"citibike_best_model.pkl\")\n",
    "\n",
    "print(\"Model saved as citibike_best_model.pkl\")\n"
   ]
  },
  {
   "cell_type": "code",
   "execution_count": 16,
   "id": "45906753-b38a-452d-9f0d-03eb91129452",
   "metadata": {
    "scrolled": true
   },
   "outputs": [
    {
     "name": "stdout",
     "output_type": "stream",
     "text": [
      "2025-05-09 23:08:24,273 INFO: Closing external client and cleaning up certificates.\n",
      "Connection closed.\n",
      "2025-05-09 23:08:24,280 INFO: Initializing external client\n",
      "2025-05-09 23:08:24,281 INFO: Base URL: https://c.app.hopsworks.ai:443\n"
     ]
    },
    {
     "name": "stderr",
     "output_type": "stream",
     "text": [
      "\n",
      "\n",
      "UserWarning: The installed hopsworks client version 4.1.8 may not be compatible with the connected Hopsworks backend version 4.2.0. \n",
      "To ensure compatibility please install the latest bug fix release matching the minor version of your backend (4.2) by running 'pip install hopsworks==4.2.*'\n"
     ]
    },
    {
     "name": "stdout",
     "output_type": "stream",
     "text": [
      "2025-05-09 23:08:25,001 INFO: Python Engine initialized.\n",
      "\n",
      "Logged in to project, explore it here https://c.app.hopsworks.ai:443/p/1225931\n"
     ]
    },
    {
     "data": {
      "application/vnd.jupyter.widget-view+json": {
       "model_id": "9508ab367df3431597d2cfb5d311cffa",
       "version_major": 2,
       "version_minor": 0
      },
      "text/plain": [
       "  0%|          | 0/6 [00:00<?, ?it/s]"
      ]
     },
     "metadata": {},
     "output_type": "display_data"
    },
    {
     "data": {
      "application/vnd.jupyter.widget-view+json": {
       "model_id": "0545508bf25743328fb3dfcd22eec9e3",
       "version_major": 2,
       "version_minor": 0
      },
      "text/plain": [
       "Uploading: 0.000%|          | 0/279343 elapsed<00:00 remaining<?"
      ]
     },
     "metadata": {},
     "output_type": "display_data"
    },
    {
     "data": {
      "application/vnd.jupyter.widget-view+json": {
       "model_id": "36cbb95be1bf45288b8583586b79a76a",
       "version_major": 2,
       "version_minor": 0
      },
      "text/plain": [
       "Uploading: 0.000%|          | 0/113 elapsed<00:00 remaining<?"
      ]
     },
     "metadata": {},
     "output_type": "display_data"
    },
    {
     "name": "stdout",
     "output_type": "stream",
     "text": [
      "Model created, explore it at https://c.app.hopsworks.ai:443/p/1225931/models/citibike_demand_model_hopsworks/1\n",
      "Model deployed to Hopsworks Model Registry successfully!\n"
     ]
    }
   ],
   "source": [
    "import hopsworks\n",
    "import joblib\n",
    "import pandas as pd\n",
    "from sklearn.ensemble import GradientBoostingRegressor  # or your actual model type\n",
    "\n",
    "# Step 1: Login to Hopsworks project\n",
    "project = hopsworks.login(\n",
    "    project=\"Citi_Bike_TripData\",\n",
    "    api_key_value=\"eVrgcmUQIaYJz4kj.QNITpj9s3ieWAofZVNhhPtsjGng1ra5ZA9BsSGNRuI6i9WLGojdUuD0i0TBKfIx1\"\n",
    ")\n",
    "mr = project.get_model_registry()\n",
    "\n",
    "# Step 2: Model file path (already saved)\n",
    "model_path = \"citibike_best_model.pkl\"\n",
    "\n",
    "# Step 3: Create input schema example\n",
    "input_data = pd.DataFrame({\n",
    "    \"lag_1\": [10],\n",
    "    \"lag_2\": [9],\n",
    "    \"lag_3\": [8], \"lag_4\": [7], \"lag_5\": [6], \"lag_6\": [5], \"lag_7\": [4], \"lag_8\": [3],\n",
    "    \"lag_9\": [2], \"lag_10\": [1], \"lag_11\": [1], \"lag_12\": [2], \"lag_13\": [3], \"lag_14\": [4],\n",
    "    \"lag_15\": [5], \"lag_16\": [6], \"lag_17\": [7], \"lag_18\": [8], \"lag_19\": [9], \"lag_20\": [10],\n",
    "    \"lag_21\": [11], \"lag_22\": [12], \"lag_23\": [13], \"lag_24\": [14], \"lag_25\": [15],\n",
    "    \"lag_26\": [16], \"lag_27\": [17], \"lag_28\": [18],\n",
    "    \"hour\": [14],\n",
    "    \"start_station_name\": [\"Top_Station\"]\n",
    "})\n",
    "\n",
    "# Step 4: Register model\n",
    "citibike_model = mr.python.create_model(\n",
    "    name=\"citibike_demand_model_hopsworks\",\n",
    "    metrics={\"mae\": 4.18},\n",
    "    input_example=input_data,\n",
    "    description=\"LightGBM model for Citi Bike demand using lag features\"\n",
    ")\n",
    "\n",
    "# Step 5: Save model file to Hopsworks Model Registry\n",
    "citibike_model.save(model_path)\n",
    "\n",
    "print(\"Model deployed to Hopsworks Model Registry successfully!\")\n"
   ]
  },
  {
   "cell_type": "code",
   "execution_count": null,
   "id": "d76b3764-5761-4715-8bf9-6a72306b35c8",
   "metadata": {},
   "outputs": [],
   "source": []
  }
 ],
 "metadata": {
  "kernelspec": {
   "display_name": "Python 3 (ipykernel)",
   "language": "python",
   "name": "python3"
  },
  "language_info": {
   "codemirror_mode": {
    "name": "ipython",
    "version": 3
   },
   "file_extension": ".py",
   "mimetype": "text/x-python",
   "name": "python",
   "nbconvert_exporter": "python",
   "pygments_lexer": "ipython3",
   "version": "3.12.4"
  }
 },
 "nbformat": 4,
 "nbformat_minor": 5
}
