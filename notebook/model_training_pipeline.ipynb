{
 "cells": [
  {
   "cell_type": "code",
   "execution_count": null,
   "id": "07e31612-6423-446e-a1f0-74359206ba06",
   "metadata": {},
   "outputs": [
    {
     "name": "stdout",
     "output_type": "stream",
     "text": [
      "2025-05-09 22:40:20,641 INFO: Initializing external client\n",
      "2025-05-09 22:40:20,644 INFO: Base URL: https://c.app.hopsworks.ai:443\n"
     ]
    },
    {
     "name": "stderr",
     "output_type": "stream",
     "text": [
      "\n",
      "\n",
      "UserWarning: The installed hopsworks client version 4.1.8 may not be compatible with the connected Hopsworks backend version 4.2.0. \n",
      "To ensure compatibility please install the latest bug fix release matching the minor version of your backend (4.2) by running 'pip install hopsworks==4.2.*'\n"
     ]
    },
    {
     "name": "stdout",
     "output_type": "stream",
     "text": [
      "2025-05-09 22:40:21,956 INFO: Python Engine initialized.\n",
      "\n",
      "Logged in to project, explore it here https://c.app.hopsworks.ai:443/p/1225931\n",
      "Finished: Reading data from Hopsworks, using Hopsworks Feature Query Service (1.22s) \n",
      "[LightGBM] [Info] Auto-choosing col-wise multi-threading, the overhead of testing was 0.001212 seconds.\n",
      "You can set `force_col_wise=true` to remove the overhead.\n",
      "[LightGBM] [Info] Total Bins 5268\n",
      "[LightGBM] [Info] Number of data points in the train set: 7053, number of used features: 29\n",
      "[LightGBM] [Info] Start training from score 41.243017\n",
      "MAE: 8.05\n"
     ]
    }
   ],
   "source": [
    "import pandas as pd\n",
    "import hopsworks\n",
    "import mlflow\n",
    "import lightgbm as lgb\n",
    "from sklearn.model_selection import train_test_split\n",
    "from sklearn.metrics import mean_absolute_error\n",
    "\n",
    "# Step 1: Login and load feature group\n",
    "project = hopsworks.login(\n",
    "    project=\"Citi_Bike_TripData\",\n",
    "    api_key_value=\"eVrgcmUQIaYJz4kj.QNITpj9s3ieWAofZVNhhPtsjGng1ra5ZA9BsSGNRuI6i9WLGojdUuD0i0TBKfIx1\"\n",
    ")\n",
    "fs = project.get_feature_store()\n",
    "fg = fs.get_feature_group(\"citibike_features_hourly\", version=1)\n",
    "df = fg.read()\n",
    "\n",
    "# Step 2: Preprocessing\n",
    "df['date'] = pd.to_datetime(df['date'])  # ensure datetime\n",
    "df['start_station_name'] = df['start_station_name'].astype('category')\n",
    "\n",
    "# Drop non-numeric or unsupported columns\n",
    "X = df.drop(columns=[\"rides\", \"date\"])\n",
    "y = df[\"rides\"]\n",
    "\n",
    "# Step 3: Train/test split\n",
    "X_train, X_test, y_train, y_test = train_test_split(X, y, test_size=0.2, random_state=42)\n",
    "\n",
    "# Step 4: Train model\n",
    "model = lgb.LGBMRegressor()\n",
    "model.fit(X_train, y_train)\n",
    "\n",
    "# Step 5: Evaluation\n",
    "y_pred = model.predict(X_test)\n",
    "mae = mean_absolute_error(y_test, y_pred)\n",
    "print(f\"MAE: {mae:.2f}\")\n",
    "\n",
    "# Step 6: Log to MLflow\n",
    "mlflow.set_tracking_uri(\"https://dagshub.com/SaiRishi9/Citi_Bike_tripdata.mlflow\")\n",
    "mlflow.set_experiment(\"CitiBike_Demand_Prediction\")\n",
    "\n",
    "with mlflow.start_run(run_name=\"LightGBM_All28Lags\"):\n",
    "    mlflow.log_metric(\"mae\", mae)\n",
    "    mlflow.lightgbm.log_model(model, artifact_path=\"model\", registered_model_name=\"citibike_demand_model\")\n",
    "    mlflow.set_tag(\"model_type\", \"LightGBM\")\n",
    "    mlflow.set_tag(\"feature_set\", \"All 28 lag features\")\n"
   ]
  },
  {
   "cell_type": "code",
   "execution_count": null,
   "id": "b2afafbb-330b-46c0-be26-b22c1b6f6205",
   "metadata": {},
   "outputs": [],
   "source": []
  }
 ],
 "metadata": {
  "kernelspec": {
   "display_name": "Python 3 (ipykernel)",
   "language": "python",
   "name": "python3"
  },
  "language_info": {
   "codemirror_mode": {
    "name": "ipython",
    "version": 3
   },
   "file_extension": ".py",
   "mimetype": "text/x-python",
   "name": "python",
   "nbconvert_exporter": "python",
   "pygments_lexer": "ipython3",
   "version": "3.12.4"
  }
 },
 "nbformat": 4,
 "nbformat_minor": 5
}
