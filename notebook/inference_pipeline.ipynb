{
 "cells": [
  {
   "cell_type": "code",
   "execution_count": null,
   "id": "d7d768f9-4b98-44ae-8c3d-1d8293919dc7",
   "metadata": {},
   "outputs": [
    {
     "name": "stdout",
     "output_type": "stream",
     "text": [
      "2025-05-09 22:09:30,948 INFO: Initializing external client\n",
      "2025-05-09 22:09:30,951 INFO: Base URL: https://c.app.hopsworks.ai:443\n"
     ]
    },
    {
     "name": "stderr",
     "output_type": "stream",
     "text": [
      "\n",
      "\n",
      "UserWarning: The installed hopsworks client version 4.1.8 may not be compatible with the connected Hopsworks backend version 4.2.0. \n",
      "To ensure compatibility please install the latest bug fix release matching the minor version of your backend (4.2) by running 'pip install hopsworks==4.2.*'\n"
     ]
    },
    {
     "name": "stdout",
     "output_type": "stream",
     "text": [
      "2025-05-09 22:09:32,357 INFO: Python Engine initialized.\n",
      "\n",
      "Logged in to project, explore it here https://c.app.hopsworks.ai:443/p/1225931\n",
      "Finished: Reading data from Hopsworks, using Hopsworks Feature Query Service (1.55s) \n"
     ]
    },
    {
     "data": {
      "application/vnd.jupyter.widget-view+json": {
       "model_id": "d4c93fede9b8496e81cb5a7fad152368",
       "version_major": 2,
       "version_minor": 0
      },
      "text/plain": [
       "Downloading artifacts:   0%|          | 0/5 [00:00<?, ?it/s]"
      ]
     },
     "metadata": {},
     "output_type": "display_data"
    },
    {
     "name": "stderr",
     "output_type": "stream",
     "text": [
      "Uploading Dataframe: 100.00% |█████████████████████████████████| Rows 1/1 | Elapsed Time: 00:01 | Remaining Time: 00:00\n"
     ]
    },
    {
     "name": "stdout",
     "output_type": "stream",
     "text": [
      "Launching job: citibike_demand_predictions_1_offline_fg_materialization\n",
      "Job started successfully, you can follow the progress at \n",
      "https://c.app.hopsworks.ai:443/p/1225931/jobs/named/citibike_demand_predictions_1_offline_fg_materialization/executions\n",
      "2025-05-09 22:09:56,307 INFO: Waiting for execution to finish. Current state: SUBMITTED. Final status: UNDEFINED\n",
      "2025-05-09 22:10:02,504 INFO: Waiting for execution to finish. Current state: RUNNING. Final status: UNDEFINED\n"
     ]
    }
   ],
   "source": [
    "# pipelines/inference_pipeline.py\n",
    "import pandas as pd\n",
    "import hopsworks\n",
    "import mlflow.pyfunc\n",
    "from datetime import datetime\n",
    "\n",
    "# Step 1: Login to Hopsworks\n",
    "project = hopsworks.login(\n",
    "    project=\"Citi_Bike_TripData\",\n",
    "    api_key_value=\"eVrgcmUQIaYJz4kj.QNITpj9s3ieWAofZVNhhPtsjGng1ra5ZA9BsSGNRuI6i9WLGojdUuD0i0TBKfIx1\"\n",
    ")\n",
    "fs = project.get_feature_store()\n",
    "\n",
    "# Step 2: Read feature group\n",
    "fg = fs.get_feature_group(\"citibike_features_hourly\", version=1)\n",
    "df = fg.read()\n",
    "\n",
    "# Step 3: Sort and take latest row\n",
    "latest_df = df.sort_values(\"date\", ascending=False).dropna().head(1)\n",
    "\n",
    "# Step 4: Extract only the lag features used in training\n",
    "feature_columns = [f\"lag_{i}\" for i in range(1, 29)]\n",
    "X = latest_df[feature_columns]\n",
    "\n",
    "# Step 5: Load model from MLflow\n",
    "mlflow.set_tracking_uri(\"https://dagshub.com/SaiRishi9/Citi_Bike_tripdata.mlflow\")\n",
    "model = mlflow.pyfunc.load_model(\"models:/citibike_demand_model/1\")\n",
    "\n",
    "# Step 6: Predict\n",
    "y_pred = model.predict(X)\n",
    "\n",
    "# Step 7: Store result in new feature group\n",
    "result = latest_df[[\"start_station_name\", \"date\", \"hour\"]].copy()\n",
    "result[\"predicted_rides\"] = y_pred\n",
    "result[\"inference_time\"] = datetime.now()\n",
    "\n",
    "pred_fg = fs.get_or_create_feature_group(\n",
    "    name=\"citibike_demand_predictions\",\n",
    "    version=1,\n",
    "    primary_key=[\"start_station_name\", \"date\", \"hour\"],\n",
    "    event_time=\"inference_time\",\n",
    "    description=\"Predicted hourly demand using production model\"\n",
    ")\n",
    "pred_fg.insert(result, wait=True)\n",
    "\n",
    "print(\"Inference completed and predictions logged to Hopsworks.\")\n"
   ]
  },
  {
   "cell_type": "code",
   "execution_count": null,
   "id": "a8990d81-0643-4485-b51a-625372e978ab",
   "metadata": {},
   "outputs": [],
   "source": []
  }
 ],
 "metadata": {
  "kernelspec": {
   "display_name": "Python 3 (ipykernel)",
   "language": "python",
   "name": "python3"
  },
  "language_info": {
   "codemirror_mode": {
    "name": "ipython",
    "version": 3
   },
   "file_extension": ".py",
   "mimetype": "text/x-python",
   "name": "python",
   "nbconvert_exporter": "python",
   "pygments_lexer": "ipython3",
   "version": "3.12.4"
  }
 },
 "nbformat": 4,
 "nbformat_minor": 5
}
