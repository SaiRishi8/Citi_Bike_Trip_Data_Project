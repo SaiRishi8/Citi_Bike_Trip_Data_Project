{
 "cells": [
  {
   "cell_type": "code",
   "execution_count": null,
   "id": "cfe3a8eb-1ee8-4bed-a097-a0f2609609cc",
   "metadata": {},
   "outputs": [],
   "source": [
    "# src/feature_pipeline.py\n",
    "import pandas as pd\n",
    "import hopsworks\n",
    "\n",
    "# Step 1: Load raw Citi Bike trip data\n",
    "csv_path = r\"C:\\Users\\DELL\\Downloads\\cleaned_citibike_top3_2023.csv\"\n",
    "df = pd.read_csv(csv_path, low_memory=False)\n",
    "\n",
    "# Step 2: Convert started_at to datetime and aggregate to hourly ride counts\n",
    "df['started_at'] = pd.to_datetime(df['started_at'])\n",
    "df['rides'] = 1  # each row is a ride\n",
    "df = df.set_index('started_at').resample('H').sum().reset_index()\n",
    "\n",
    "# Step 3: Create lag features\n",
    "for lag in range(1, 29):\n",
    "    df[f'lag_{lag}'] = df['rides'].shift(lag)\n",
    "\n",
    "# Step 4: Drop missing rows due to lagging\n",
    "df.dropna(inplace=True)\n",
    "\n",
    "# Step 5: Extract additional columns for keys\n",
    "df['date'] = df['started_at'].dt.floor('D')  # datetime-compatible type\n",
    "df['hour'] = df['started_at'].dt.hour\n",
    "df['start_station_name'] = \"Top_Station\"  # replace with actual if available\n",
    "\n",
    "# Step 6: Keep only relevant columns\n",
    "features = [f'lag_{i}' for i in range(1, 29)] + ['date', 'hour', 'start_station_name', 'rides']\n",
    "df = df[features]\n",
    "\n",
    "# Step 7: Connect to Hopsworks\n",
    "project = hopsworks.login(\n",
    "    project=\"Citi_Bike_TripData\",\n",
    "    api_key_value=\"eVrgcmUQIaYJz4kj.QNITpj9s3ieWAofZVNhhPtsjGng1ra5ZA9BsSGNRuI6i9WLGojdUuD0i0TBKfIx1\"\n",
    ")\n",
    "fs = project.get_feature_store()\n",
    "\n",
    "# Step 8: Create or get the feature group\n",
    "fg = fs.get_or_create_feature_group(\n",
    "    name=\"citibike_features_hourly\",\n",
    "    version=1,\n",
    "    primary_key=[\"start_station_name\", \"date\", \"hour\"],\n",
    "    event_time=\"date\",\n",
    "    description=\"Hourly lag features for Citi Bike demand prediction\"\n",
    ")\n",
    "\n",
    "# Step 9: Insert data in chunks to avoid disconnect errors\n",
    "batch_size = 5000\n",
    "for i in range(0, len(df), batch_size):\n",
    "    chunk = df.iloc[i:i+batch_size]\n",
    "    fg.insert(chunk, wait=True)\n",
    "    print(f\"Inserted rows {i} to {i+len(chunk)-1}\")\n",
    "\n",
    "print(\"Feature group successfully inserted into Hopsworks.\")\n"
   ]
  }
 ],
 "metadata": {
  "kernelspec": {
   "display_name": "Python 3 (ipykernel)",
   "language": "python",
   "name": "python3"
  },
  "language_info": {
   "codemirror_mode": {
    "name": "ipython",
    "version": 3
   },
   "file_extension": ".py",
   "mimetype": "text/x-python",
   "name": "python",
   "nbconvert_exporter": "python",
   "pygments_lexer": "ipython3",
   "version": "3.12.4"
  }
 },
 "nbformat": 4,
 "nbformat_minor": 5
}
